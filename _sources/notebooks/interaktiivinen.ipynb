{
 "cells": [
  {
   "cell_type": "markdown",
   "id": "275edcb1",
   "metadata": {},
   "source": [
    "# Interaktiivinen materiaali\n",
    "\n",
    "Sivulle voidaan tuottaa lukijalle useankaltaista interaktiivista materiaalia sekä myös mahdollistaa sellaisen tuottaminen lukijan toimesta.\n",
    "\n",
    "## Esimerkki: interaktiiviset koodisolut ja interaktiivinen kuvaaja\n",
    "\n",
    "Käytetään **{index}`Thebe`ä** joka mahdollistaa koodisolujen ajamisen suoraan sivulla. Klikkaa raketti-ikonia ja valitse ‘Live Code’. Paina tämän jälkeen ‘run’. \n",
    "Säädä liukusäätimillä suoran kulmakerrointa ja vakiotermejä, suoran kuvaaja sekä sen yläpuolella oleva suoran yhtälö päivittyvät automaattisesti.\n",
    "Kuvaajan tuoton koodit näet klikkaamalla 'Click to show'-painiketta; koodia voi myös muokata haluamakseen ja sitten ajaa (painamalla 'run'); Thebe-tekee\n",
    "koodisoluista sisällöltään muokattavia ja ajettavia!"
   ]
  },
  {
   "cell_type": "code",
   "execution_count": 1,
   "id": "229f9e88",
   "metadata": {
    "tags": [
     "hide-input",
     "thebe-init"
    ]
   },
   "outputs": [],
   "source": [
    "import numpy as np\n",
    "import matplotlib.pyplot as plt\n",
    "import ipywidgets as widgets\n",
    "\n",
    "\n",
    "def tee_suoran_yhtälön_printtauksen_teksti(kulmakerroin, vakiotermi):\n",
    "    if np.sign(kulmakerroin) > 0:\n",
    "        kulmakertoimen_teksti = ''\n",
    "    else:\n",
    "        kulmakertoimen_teksti = '-'\n",
    "    if np.abs(kulmakerroin) != 1:\n",
    "        kulmakertoimen_teksti += str(np.abs(kulmakerroin))\n",
    "    vakiotermin_teksti = ''\n",
    "    if vakiotermi != 0:\n",
    "        if np.sign(vakiotermi) > 0:\n",
    "            vakiotermin_teksti += '+'\n",
    "        else:\n",
    "            vakiotermin_teksti += '-'\n",
    "        vakiotermin_teksti += str(np.abs(vakiotermi))\n",
    "    return 'y = {}x{}'.format(kulmakertoimen_teksti, vakiotermin_teksti)\n",
    "\n",
    "\n",
    "def suoran_maaritys_ja_plottaus(kulmakerroin, vakiotermi):\n",
    "    x = np.linspace(-5, 5, 100)\n",
    "    y = kulmakerroin*x+vakiotermi\n",
    "    fig, ax = plt.subplots()\n",
    "    ax.plot(x, y, 'r')\n",
    "    ax.grid()\n",
    "    ax.set_xlim([-5, 5])\n",
    "    ax.set_ylim([-5, 5])\n",
    "    ax.set_xlabel(r'$x$')\n",
    "    ax.set_ylabel(r'$y$')\n",
    "    fig.suptitle(tee_suoran_yhtälön_printtauksen_teksti(kulmakerroin, vakiotermi))\n",
    "    \n",
    "    return kulmakerroin, vakiotermi\n",
    "\n",
    "\n",
    "def suoran_maaritys_ja_plottaus_interaktiivisesti():\n",
    "    interactive_plot = widgets.interactive(suoran_maaritys_ja_plottaus,\n",
    "                                           kulmakerroin=widgets.FloatSlider(value=0.1, min=-5, max=5, step=0.1,\n",
    "                                                                              description='kulmakerroin'),\n",
    "                                           vakiotermi=widgets.FloatSlider(value=0.0, min=-5, max=5, step=0.1,\n",
    "                                                                              description='vakiotermi'))\n",
    "                                          \n",
    "    return interactive_plot"
   ]
  },
  {
   "cell_type": "code",
   "execution_count": 2,
   "id": "85b05461",
   "metadata": {},
   "outputs": [
    {
     "data": {
      "application/vnd.jupyter.widget-view+json": {
       "model_id": "eca048d004c047e5b674b3237f0e150d",
       "version_major": 2,
       "version_minor": 0
      },
      "text/plain": [
       "interactive(children=(FloatSlider(value=0.1, description='kulmakerroin', max=5.0, min=-5.0), FloatSlider(value…"
      ]
     },
     "metadata": {},
     "output_type": "display_data"
    }
   ],
   "source": [
    "interactive_plot=suoran_maaritys_ja_plottaus_interaktiivisesti()\n",
    "interactive_plot"
   ]
  },
  {
   "cell_type": "markdown",
   "id": "14ae844b",
   "metadata": {},
   "source": [
    "Alla koodisolu, jota voidaan myös ajaa ja muokata."
   ]
  },
  {
   "cell_type": "code",
   "execution_count": 3,
   "id": "1fc4807f",
   "metadata": {},
   "outputs": [],
   "source": [
    "# oppimateriaaliin mahd. hyvä laittaa tämänlaisia soluja\n",
    "# lukijalle, joita lukija voi muokata ja käyttää\n",
    "# \"koodailuun\"  "
   ]
  }
 ],
 "metadata": {
  "jupytext": {
   "formats": "md:myst",
   "text_representation": {
    "extension": ".md",
    "format_name": "myst"
   }
  },
  "kernelspec": {
   "display_name": "Python 3",
   "language": "python",
   "name": "python3"
  },
  "language_info": {
   "codemirror_mode": {
    "name": "ipython",
    "version": 3
   },
   "file_extension": ".py",
   "mimetype": "text/x-python",
   "name": "python",
   "nbconvert_exporter": "python",
   "pygments_lexer": "ipython3",
   "version": "3.10.8"
  },
  "source_map": [
   11,
   24,
   73,
   76,
   80
  ],
  "widgets": {
   "application/vnd.jupyter.widget-state+json": {
    "state": {
     "00d47a3e85bd4373b6b5d2252a55e88e": {
      "model_module": "@jupyter-widgets/base",
      "model_module_version": "1.2.0",
      "model_name": "LayoutModel",
      "state": {
       "_model_module": "@jupyter-widgets/base",
       "_model_module_version": "1.2.0",
       "_model_name": "LayoutModel",
       "_view_count": null,
       "_view_module": "@jupyter-widgets/base",
       "_view_module_version": "1.2.0",
       "_view_name": "LayoutView",
       "align_content": null,
       "align_items": null,
       "align_self": null,
       "border": null,
       "bottom": null,
       "display": null,
       "flex": null,
       "flex_flow": null,
       "grid_area": null,
       "grid_auto_columns": null,
       "grid_auto_flow": null,
       "grid_auto_rows": null,
       "grid_column": null,
       "grid_gap": null,
       "grid_row": null,
       "grid_template_areas": null,
       "grid_template_columns": null,
       "grid_template_rows": null,
       "height": null,
       "justify_content": null,
       "justify_items": null,
       "left": null,
       "margin": null,
       "max_height": null,
       "max_width": null,
       "min_height": null,
       "min_width": null,
       "object_fit": null,
       "object_position": null,
       "order": null,
       "overflow": null,
       "overflow_x": null,
       "overflow_y": null,
       "padding": null,
       "right": null,
       "top": null,
       "visibility": null,
       "width": null
      }
     },
     "0c8e533883004023964da80835dd60ea": {
      "model_module": "@jupyter-widgets/controls",
      "model_module_version": "1.5.0",
      "model_name": "FloatSliderModel",
      "state": {
       "_dom_classes": [],
       "_model_module": "@jupyter-widgets/controls",
       "_model_module_version": "1.5.0",
       "_model_name": "FloatSliderModel",
       "_view_count": null,
       "_view_module": "@jupyter-widgets/controls",
       "_view_module_version": "1.5.0",
       "_view_name": "FloatSliderView",
       "continuous_update": true,
       "description": "kulmakerroin",
       "description_tooltip": null,
       "disabled": false,
       "layout": "IPY_MODEL_00d47a3e85bd4373b6b5d2252a55e88e",
       "max": 5.0,
       "min": -5.0,
       "orientation": "horizontal",
       "readout": true,
       "readout_format": ".2f",
       "step": 0.1,
       "style": "IPY_MODEL_3c66c7183ffd4a5aacc2f61b81fce803",
       "value": 0.1
      }
     },
     "3c66c7183ffd4a5aacc2f61b81fce803": {
      "model_module": "@jupyter-widgets/controls",
      "model_module_version": "1.5.0",
      "model_name": "SliderStyleModel",
      "state": {
       "_model_module": "@jupyter-widgets/controls",
       "_model_module_version": "1.5.0",
       "_model_name": "SliderStyleModel",
       "_view_count": null,
       "_view_module": "@jupyter-widgets/base",
       "_view_module_version": "1.2.0",
       "_view_name": "StyleView",
       "description_width": "",
       "handle_color": null
      }
     },
     "474c40f54d034be2a99acdf2232af3db": {
      "model_module": "@jupyter-widgets/controls",
      "model_module_version": "1.5.0",
      "model_name": "FloatSliderModel",
      "state": {
       "_dom_classes": [],
       "_model_module": "@jupyter-widgets/controls",
       "_model_module_version": "1.5.0",
       "_model_name": "FloatSliderModel",
       "_view_count": null,
       "_view_module": "@jupyter-widgets/controls",
       "_view_module_version": "1.5.0",
       "_view_name": "FloatSliderView",
       "continuous_update": true,
       "description": "vakiotermi",
       "description_tooltip": null,
       "disabled": false,
       "layout": "IPY_MODEL_4c532a8fc96f4f69b56879f2a4d2150d",
       "max": 5.0,
       "min": -5.0,
       "orientation": "horizontal",
       "readout": true,
       "readout_format": ".2f",
       "step": 0.1,
       "style": "IPY_MODEL_73e4e73817e74f739801c7732087d191",
       "value": 0.0
      }
     },
     "4c532a8fc96f4f69b56879f2a4d2150d": {
      "model_module": "@jupyter-widgets/base",
      "model_module_version": "1.2.0",
      "model_name": "LayoutModel",
      "state": {
       "_model_module": "@jupyter-widgets/base",
       "_model_module_version": "1.2.0",
       "_model_name": "LayoutModel",
       "_view_count": null,
       "_view_module": "@jupyter-widgets/base",
       "_view_module_version": "1.2.0",
       "_view_name": "LayoutView",
       "align_content": null,
       "align_items": null,
       "align_self": null,
       "border": null,
       "bottom": null,
       "display": null,
       "flex": null,
       "flex_flow": null,
       "grid_area": null,
       "grid_auto_columns": null,
       "grid_auto_flow": null,
       "grid_auto_rows": null,
       "grid_column": null,
       "grid_gap": null,
       "grid_row": null,
       "grid_template_areas": null,
       "grid_template_columns": null,
       "grid_template_rows": null,
       "height": null,
       "justify_content": null,
       "justify_items": null,
       "left": null,
       "margin": null,
       "max_height": null,
       "max_width": null,
       "min_height": null,
       "min_width": null,
       "object_fit": null,
       "object_position": null,
       "order": null,
       "overflow": null,
       "overflow_x": null,
       "overflow_y": null,
       "padding": null,
       "right": null,
       "top": null,
       "visibility": null,
       "width": null
      }
     },
     "53c4af4cbf1a43299fb793d8b0f342dc": {
      "model_module": "@jupyter-widgets/output",
      "model_module_version": "1.0.0",
      "model_name": "OutputModel",
      "state": {
       "_dom_classes": [],
       "_model_module": "@jupyter-widgets/output",
       "_model_module_version": "1.0.0",
       "_model_name": "OutputModel",
       "_view_count": null,
       "_view_module": "@jupyter-widgets/output",
       "_view_module_version": "1.0.0",
       "_view_name": "OutputView",
       "layout": "IPY_MODEL_90a2bb8dba774b288f28e831c97a383d",
       "msg_id": "",
       "outputs": [
        {
         "data": {
          "image/png": "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\n",
          "text/plain": "<Figure size 640x480 with 1 Axes>"
         },
         "metadata": {},
         "output_type": "display_data"
        }
       ]
      }
     },
     "73e4e73817e74f739801c7732087d191": {
      "model_module": "@jupyter-widgets/controls",
      "model_module_version": "1.5.0",
      "model_name": "SliderStyleModel",
      "state": {
       "_model_module": "@jupyter-widgets/controls",
       "_model_module_version": "1.5.0",
       "_model_name": "SliderStyleModel",
       "_view_count": null,
       "_view_module": "@jupyter-widgets/base",
       "_view_module_version": "1.2.0",
       "_view_name": "StyleView",
       "description_width": "",
       "handle_color": null
      }
     },
     "875b72812a6b43e3a1e29a3c1a9ce27d": {
      "model_module": "@jupyter-widgets/base",
      "model_module_version": "1.2.0",
      "model_name": "LayoutModel",
      "state": {
       "_model_module": "@jupyter-widgets/base",
       "_model_module_version": "1.2.0",
       "_model_name": "LayoutModel",
       "_view_count": null,
       "_view_module": "@jupyter-widgets/base",
       "_view_module_version": "1.2.0",
       "_view_name": "LayoutView",
       "align_content": null,
       "align_items": null,
       "align_self": null,
       "border": null,
       "bottom": null,
       "display": null,
       "flex": null,
       "flex_flow": null,
       "grid_area": null,
       "grid_auto_columns": null,
       "grid_auto_flow": null,
       "grid_auto_rows": null,
       "grid_column": null,
       "grid_gap": null,
       "grid_row": null,
       "grid_template_areas": null,
       "grid_template_columns": null,
       "grid_template_rows": null,
       "height": null,
       "justify_content": null,
       "justify_items": null,
       "left": null,
       "margin": null,
       "max_height": null,
       "max_width": null,
       "min_height": null,
       "min_width": null,
       "object_fit": null,
       "object_position": null,
       "order": null,
       "overflow": null,
       "overflow_x": null,
       "overflow_y": null,
       "padding": null,
       "right": null,
       "top": null,
       "visibility": null,
       "width": null
      }
     },
     "90a2bb8dba774b288f28e831c97a383d": {
      "model_module": "@jupyter-widgets/base",
      "model_module_version": "1.2.0",
      "model_name": "LayoutModel",
      "state": {
       "_model_module": "@jupyter-widgets/base",
       "_model_module_version": "1.2.0",
       "_model_name": "LayoutModel",
       "_view_count": null,
       "_view_module": "@jupyter-widgets/base",
       "_view_module_version": "1.2.0",
       "_view_name": "LayoutView",
       "align_content": null,
       "align_items": null,
       "align_self": null,
       "border": null,
       "bottom": null,
       "display": null,
       "flex": null,
       "flex_flow": null,
       "grid_area": null,
       "grid_auto_columns": null,
       "grid_auto_flow": null,
       "grid_auto_rows": null,
       "grid_column": null,
       "grid_gap": null,
       "grid_row": null,
       "grid_template_areas": null,
       "grid_template_columns": null,
       "grid_template_rows": null,
       "height": null,
       "justify_content": null,
       "justify_items": null,
       "left": null,
       "margin": null,
       "max_height": null,
       "max_width": null,
       "min_height": null,
       "min_width": null,
       "object_fit": null,
       "object_position": null,
       "order": null,
       "overflow": null,
       "overflow_x": null,
       "overflow_y": null,
       "padding": null,
       "right": null,
       "top": null,
       "visibility": null,
       "width": null
      }
     },
     "eca048d004c047e5b674b3237f0e150d": {
      "model_module": "@jupyter-widgets/controls",
      "model_module_version": "1.5.0",
      "model_name": "VBoxModel",
      "state": {
       "_dom_classes": [
        "widget-interact"
       ],
       "_model_module": "@jupyter-widgets/controls",
       "_model_module_version": "1.5.0",
       "_model_name": "VBoxModel",
       "_view_count": null,
       "_view_module": "@jupyter-widgets/controls",
       "_view_module_version": "1.5.0",
       "_view_name": "VBoxView",
       "box_style": "",
       "children": [
        "IPY_MODEL_0c8e533883004023964da80835dd60ea",
        "IPY_MODEL_474c40f54d034be2a99acdf2232af3db",
        "IPY_MODEL_53c4af4cbf1a43299fb793d8b0f342dc"
       ],
       "layout": "IPY_MODEL_875b72812a6b43e3a1e29a3c1a9ce27d"
      }
     }
    },
    "version_major": 2,
    "version_minor": 0
   }
  }
 },
 "nbformat": 4,
 "nbformat_minor": 5
}